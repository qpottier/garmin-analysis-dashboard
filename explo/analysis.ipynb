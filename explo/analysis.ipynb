{
 "cells": [
  {
   "cell_type": "code",
   "execution_count": 1,
   "id": "aa6ad54c",
   "metadata": {},
   "outputs": [
    {
     "data": {
      "application/vnd.plotly.v1+json": {
       "config": {
        "plotlyServerURL": "https://plot.ly"
       },
       "data": [
        {
         "hovertemplate": "activity_date=%{x}<br>total_distance_km=%{y}<extra></extra>",
         "legendgroup": "",
         "marker": {
          "color": "#636efa",
          "pattern": {
           "shape": ""
          }
         },
         "name": "",
         "orientation": "v",
         "showlegend": false,
         "textposition": "auto",
         "type": "bar",
         "x": [
          "2023-09-14",
          "2023-09-15",
          "2023-09-17",
          "2023-09-19",
          "2023-09-20",
          "2023-09-21",
          "2023-09-22",
          "2023-09-23",
          "2023-09-26",
          "2023-09-27",
          "2023-09-29",
          "2023-09-30",
          "2023-10-01",
          "2023-10-03",
          "2023-10-04",
          "2023-10-06",
          "2023-10-07",
          "2023-10-08",
          "2023-10-09",
          "2023-10-10",
          "2023-10-11",
          "2023-10-12",
          "2023-10-14",
          "2023-10-15",
          "2023-10-16",
          "2023-10-17",
          "2023-10-19",
          "2023-10-20",
          "2023-10-21",
          "2023-10-22",
          "2023-10-23",
          "2023-10-24",
          "2023-10-25",
          "2023-10-26",
          "2023-10-28",
          "2023-10-29",
          "2023-10-30",
          "2023-10-31",
          "2023-11-01",
          "2023-11-02",
          "2023-11-04",
          "2023-11-05",
          "2023-11-06",
          "2023-11-07",
          "2023-11-08",
          "2023-11-09",
          "2023-11-10",
          "2023-11-12",
          "2023-11-14",
          "2023-11-15",
          "2023-11-16",
          "2023-11-17",
          "2023-11-18",
          "2023-11-19",
          "2023-11-20",
          "2023-11-21",
          "2023-11-22",
          "2023-11-23",
          "2023-11-29",
          "2023-11-30",
          "2023-12-02",
          "2023-12-03",
          "2023-12-04",
          "2023-12-06",
          "2023-12-07",
          "2023-12-09",
          "2023-12-10",
          "2023-12-11",
          "2023-12-12",
          "2023-12-13",
          "2023-12-14",
          "2023-12-16",
          "2023-12-17",
          "2023-12-18",
          "2024-01-23",
          "2024-01-27",
          "2024-01-28",
          "2024-01-30",
          "2024-01-31",
          "2024-02-02",
          "2024-02-03",
          "2024-02-04",
          "2024-02-05",
          "2024-02-06",
          "2024-02-07",
          "2024-02-09",
          "2024-02-10",
          "2024-02-11",
          "2024-02-12",
          "2024-02-13",
          "2024-02-14",
          "2024-02-15",
          "2024-02-17",
          "2024-02-18",
          "2024-02-26",
          "2024-02-27",
          "2024-02-28",
          "2024-03-01",
          "2024-03-03",
          "2024-03-04",
          "2024-03-05",
          "2024-03-06",
          "2024-03-07",
          "2024-03-08",
          "2024-03-10",
          "2024-03-11",
          "2024-03-12",
          "2024-03-13",
          "2024-03-14",
          "2024-03-16",
          "2024-03-17",
          "2024-03-18",
          "2024-03-21",
          "2024-03-22",
          "2024-03-23",
          "2024-03-24",
          "2024-03-25",
          "2024-03-26",
          "2024-03-27",
          "2024-03-28",
          "2024-03-29",
          "2024-03-31",
          "2024-04-02",
          "2024-04-03",
          "2024-04-04",
          "2024-04-06",
          "2024-04-07",
          "2024-04-08",
          "2024-04-09",
          "2024-04-10",
          "2024-04-11",
          "2024-04-14",
          "2024-04-15",
          "2024-04-16",
          "2024-04-17",
          "2024-04-18",
          "2024-04-19",
          "2024-04-20",
          "2024-04-21",
          "2024-04-22",
          "2024-04-23",
          "2024-04-24",
          "2024-04-26",
          "2024-04-27",
          "2024-04-28",
          "2024-04-29",
          "2024-04-30",
          "2024-05-01",
          "2024-05-02",
          "2024-05-03",
          "2024-05-05",
          "2024-05-06",
          "2024-05-07",
          "2024-05-08",
          "2024-05-09",
          "2024-05-11",
          "2024-05-12",
          "2024-05-13",
          "2024-05-14",
          "2024-05-15",
          "2024-05-16",
          "2024-05-17",
          "2024-05-19",
          "2024-05-20",
          "2024-05-21",
          "2024-05-22",
          "2024-05-23",
          "2024-05-25",
          "2024-05-26",
          "2024-05-28",
          "2024-05-29",
          "2024-06-01",
          "2024-06-02",
          "2024-06-04",
          "2024-06-05",
          "2024-06-06",
          "2024-06-08",
          "2024-06-09",
          "2024-06-10",
          "2024-06-11",
          "2024-06-12",
          "2024-06-13",
          "2024-06-14",
          "2024-06-15",
          "2024-06-16",
          "2024-06-17",
          "2024-06-18",
          "2024-06-19",
          "2024-06-21",
          "2024-06-22",
          "2024-06-24",
          "2024-06-25",
          "2024-06-26",
          "2024-06-27",
          "2024-06-28",
          "2024-06-29",
          "2024-06-30",
          "2024-07-02",
          "2024-07-03",
          "2024-07-05",
          "2024-07-06",
          "2024-07-08",
          "2024-07-09",
          "2024-07-10",
          "2024-07-19",
          "2024-07-22",
          "2024-08-04",
          "2024-08-05",
          "2024-08-06",
          "2024-08-07",
          "2024-08-08",
          "2024-08-10",
          "2024-08-13",
          "2024-08-16",
          "2024-08-17",
          "2024-08-19",
          "2024-08-21",
          "2024-08-23",
          "2024-08-26",
          "2024-08-31",
          "2024-09-01",
          "2024-09-02",
          "2024-09-04",
          "2024-09-07",
          "2024-09-10",
          "2024-09-11",
          "2024-09-12",
          "2024-09-14",
          "2024-09-15",
          "2024-09-17",
          "2024-09-18",
          "2024-09-19",
          "2024-09-22",
          "2024-09-23",
          "2024-09-24",
          "2024-09-25",
          "2024-09-26",
          "2024-09-30",
          "2024-10-01",
          "2024-10-02",
          "2024-10-03",
          "2024-10-05",
          "2024-10-06",
          "2024-10-07",
          "2024-10-08",
          "2024-10-10",
          "2024-10-12",
          "2024-10-13",
          "2024-10-14",
          "2024-10-15",
          "2024-10-16",
          "2024-10-17",
          "2024-10-18",
          "2024-10-19",
          "2024-10-20",
          "2024-10-21",
          "2024-10-22",
          "2024-10-23",
          "2024-10-24",
          "2024-10-25",
          "2024-10-27",
          "2024-10-28",
          "2024-10-29",
          "2024-10-30",
          "2024-10-31",
          "2024-11-01",
          "2024-11-02",
          "2024-11-03",
          "2024-11-05",
          "2024-11-06",
          "2024-11-07",
          "2024-11-08",
          "2024-11-09",
          "2024-11-10",
          "2024-11-12",
          "2024-11-13",
          "2024-11-16",
          "2024-11-17",
          "2024-11-21",
          "2024-11-22",
          "2024-11-23",
          "2024-11-24",
          "2024-11-26",
          "2024-11-27",
          "2024-11-28",
          "2024-11-30",
          "2024-12-01",
          "2024-12-03",
          "2024-12-04",
          "2024-12-05",
          "2024-12-07",
          "2024-12-08",
          "2024-12-09",
          "2024-12-10",
          "2024-12-11",
          "2024-12-12",
          "2024-12-14",
          "2024-12-16",
          "2024-12-17",
          "2024-12-18",
          "2024-12-19",
          "2024-12-21",
          "2024-12-22",
          "2024-12-23",
          "2024-12-24",
          "2024-12-25",
          "2024-12-26",
          "2024-12-27",
          "2025-01-01",
          "2025-01-02",
          "2025-01-03",
          "2025-01-04",
          "2025-01-05",
          "2025-01-06",
          "2025-01-07",
          "2025-01-08",
          "2025-01-09",
          "2025-01-10",
          "2025-01-11",
          "2025-01-12",
          "2025-01-13",
          "2025-01-14",
          "2025-01-15",
          "2025-01-16",
          "2025-01-17",
          "2025-01-19",
          "2025-01-20",
          "2025-01-21",
          "2025-01-22",
          "2025-01-24",
          "2025-01-25",
          "2025-01-26",
          "2025-01-27",
          "2025-01-28",
          "2025-01-30",
          "2025-01-31",
          "2025-02-01",
          "2025-02-02",
          "2025-02-03",
          "2025-02-04",
          "2025-02-05",
          "2025-02-08",
          "2025-02-09",
          "2025-02-10",
          "2025-02-11",
          "2025-02-12",
          "2025-02-13",
          "2025-02-14",
          "2025-02-15",
          "2025-02-16",
          "2025-02-17",
          "2025-02-18",
          "2025-02-19",
          "2025-02-20",
          "2025-02-21",
          "2025-02-23",
          "2025-02-25",
          "2025-02-26",
          "2025-02-28",
          "2025-03-01",
          "2025-03-02",
          "2025-03-03",
          "2025-03-04",
          "2025-03-05",
          "2025-03-06",
          "2025-03-07",
          "2025-03-08",
          "2025-03-09",
          "2025-03-10",
          "2025-03-11",
          "2025-03-13",
          "2025-03-15",
          "2025-03-16",
          "2025-03-18",
          "2025-03-20",
          "2025-03-21",
          "2025-03-22",
          "2025-03-23",
          "2025-03-25",
          "2025-03-26",
          "2025-03-28",
          "2025-03-29",
          "2025-03-30",
          "2025-04-06",
          "2025-04-07",
          "2025-04-08",
          "2025-04-09",
          "2025-04-10",
          "2025-04-11",
          "2025-04-13",
          "2025-04-14",
          "2025-04-15",
          "2025-04-16",
          "2025-04-17",
          "2025-04-18",
          "2025-04-19",
          "2025-04-20",
          "2025-04-21",
          "2025-04-22",
          "2025-04-23",
          "2025-04-24",
          "2025-04-25",
          "2025-04-26",
          "2025-04-27",
          "2025-04-28",
          "2025-04-29",
          "2025-04-30",
          "2025-05-01",
          "2025-05-02",
          "2025-05-03",
          "2025-05-04",
          "2025-05-05",
          "2025-05-06",
          "2025-05-08",
          "2025-05-09",
          "2025-05-10",
          "2025-05-11",
          "2025-05-12",
          "2025-05-13",
          "2025-05-14",
          "2025-05-15",
          "2025-05-17",
          "2025-05-18",
          "2025-05-22",
          "2025-05-23",
          "2025-05-24",
          "2025-05-25",
          "2025-05-26",
          "2025-05-27",
          "2025-05-28",
          "2025-05-29",
          "2025-05-30",
          "2025-05-31",
          "2025-06-01",
          "2025-06-02",
          "2025-06-03",
          "2025-06-04",
          "2025-06-05",
          "2025-06-06",
          "2025-06-08",
          "2025-06-09",
          "2025-06-10",
          "2025-06-12",
          "2025-06-13",
          "2025-06-14",
          "2025-06-15",
          "2025-06-16",
          "2025-06-17",
          "2025-06-19",
          "2025-06-20",
          "2025-06-21",
          "2025-06-22",
          "2025-06-23",
          "2025-06-24",
          "2025-06-25",
          "2025-06-27",
          "2025-06-28",
          "2025-06-29",
          "2025-06-30",
          "2025-07-01",
          "2025-07-03",
          "2025-07-04",
          "2025-07-05",
          "2025-07-06",
          "2025-07-07",
          "2025-07-08",
          "2025-07-10",
          "2025-07-11",
          "2025-07-27",
          "2025-07-29",
          "2025-07-31",
          "2025-08-02",
          "2025-08-03",
          "2025-08-04",
          "2025-08-05",
          "2025-08-08",
          "2025-08-10",
          "2025-08-18",
          "2025-08-19",
          "2025-08-21",
          "2025-08-22",
          "2025-08-24",
          "2025-08-25",
          "2025-08-26",
          "2025-08-27",
          "2025-08-28",
          "2025-08-29",
          "2025-08-31",
          "2025-09-01",
          "2025-09-02",
          "2025-09-04",
          "2025-09-05",
          "2025-09-06",
          "2025-09-07",
          "2025-09-08",
          "2025-09-09",
          "2025-09-10",
          "2025-09-12",
          "2025-09-13",
          "2025-09-14",
          "2025-09-16",
          "2025-09-17",
          "2025-09-18",
          "2025-09-19",
          "2025-09-20",
          "2025-09-21",
          "2025-09-22",
          "2025-09-23",
          "2025-09-24",
          "2025-09-26",
          "2025-09-27",
          "2025-09-28"
         ],
         "xaxis": "x",
         "y": {
          "bdata": "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",
          "dtype": "f8"
         },
         "yaxis": "y"
        }
       ],
       "layout": {
        "barmode": "relative",
        "legend": {
         "tracegroupgap": 0
        },
        "template": {
         "data": {
          "bar": [
           {
            "error_x": {
             "color": "#2a3f5f"
            },
            "error_y": {
             "color": "#2a3f5f"
            },
            "marker": {
             "line": {
              "color": "#E5ECF6",
              "width": 0.5
             },
             "pattern": {
              "fillmode": "overlay",
              "size": 10,
              "solidity": 0.2
             }
            },
            "type": "bar"
           }
          ],
          "barpolar": [
           {
            "marker": {
             "line": {
              "color": "#E5ECF6",
              "width": 0.5
             },
             "pattern": {
              "fillmode": "overlay",
              "size": 10,
              "solidity": 0.2
             }
            },
            "type": "barpolar"
           }
          ],
          "carpet": [
           {
            "aaxis": {
             "endlinecolor": "#2a3f5f",
             "gridcolor": "white",
             "linecolor": "white",
             "minorgridcolor": "white",
             "startlinecolor": "#2a3f5f"
            },
            "baxis": {
             "endlinecolor": "#2a3f5f",
             "gridcolor": "white",
             "linecolor": "white",
             "minorgridcolor": "white",
             "startlinecolor": "#2a3f5f"
            },
            "type": "carpet"
           }
          ],
          "choropleth": [
           {
            "colorbar": {
             "outlinewidth": 0,
             "ticks": ""
            },
            "type": "choropleth"
           }
          ],
          "contour": [
           {
            "colorbar": {
             "outlinewidth": 0,
             "ticks": ""
            },
            "colorscale": [
             [
              0,
              "#0d0887"
             ],
             [
              0.1111111111111111,
              "#46039f"
             ],
             [
              0.2222222222222222,
              "#7201a8"
             ],
             [
              0.3333333333333333,
              "#9c179e"
             ],
             [
              0.4444444444444444,
              "#bd3786"
             ],
             [
              0.5555555555555556,
              "#d8576b"
             ],
             [
              0.6666666666666666,
              "#ed7953"
             ],
             [
              0.7777777777777778,
              "#fb9f3a"
             ],
             [
              0.8888888888888888,
              "#fdca26"
             ],
             [
              1,
              "#f0f921"
             ]
            ],
            "type": "contour"
           }
          ],
          "contourcarpet": [
           {
            "colorbar": {
             "outlinewidth": 0,
             "ticks": ""
            },
            "type": "contourcarpet"
           }
          ],
          "heatmap": [
           {
            "colorbar": {
             "outlinewidth": 0,
             "ticks": ""
            },
            "colorscale": [
             [
              0,
              "#0d0887"
             ],
             [
              0.1111111111111111,
              "#46039f"
             ],
             [
              0.2222222222222222,
              "#7201a8"
             ],
             [
              0.3333333333333333,
              "#9c179e"
             ],
             [
              0.4444444444444444,
              "#bd3786"
             ],
             [
              0.5555555555555556,
              "#d8576b"
             ],
             [
              0.6666666666666666,
              "#ed7953"
             ],
             [
              0.7777777777777778,
              "#fb9f3a"
             ],
             [
              0.8888888888888888,
              "#fdca26"
             ],
             [
              1,
              "#f0f921"
             ]
            ],
            "type": "heatmap"
           }
          ],
          "histogram": [
           {
            "marker": {
             "pattern": {
              "fillmode": "overlay",
              "size": 10,
              "solidity": 0.2
             }
            },
            "type": "histogram"
           }
          ],
          "histogram2d": [
           {
            "colorbar": {
             "outlinewidth": 0,
             "ticks": ""
            },
            "colorscale": [
             [
              0,
              "#0d0887"
             ],
             [
              0.1111111111111111,
              "#46039f"
             ],
             [
              0.2222222222222222,
              "#7201a8"
             ],
             [
              0.3333333333333333,
              "#9c179e"
             ],
             [
              0.4444444444444444,
              "#bd3786"
             ],
             [
              0.5555555555555556,
              "#d8576b"
             ],
             [
              0.6666666666666666,
              "#ed7953"
             ],
             [
              0.7777777777777778,
              "#fb9f3a"
             ],
             [
              0.8888888888888888,
              "#fdca26"
             ],
             [
              1,
              "#f0f921"
             ]
            ],
            "type": "histogram2d"
           }
          ],
          "histogram2dcontour": [
           {
            "colorbar": {
             "outlinewidth": 0,
             "ticks": ""
            },
            "colorscale": [
             [
              0,
              "#0d0887"
             ],
             [
              0.1111111111111111,
              "#46039f"
             ],
             [
              0.2222222222222222,
              "#7201a8"
             ],
             [
              0.3333333333333333,
              "#9c179e"
             ],
             [
              0.4444444444444444,
              "#bd3786"
             ],
             [
              0.5555555555555556,
              "#d8576b"
             ],
             [
              0.6666666666666666,
              "#ed7953"
             ],
             [
              0.7777777777777778,
              "#fb9f3a"
             ],
             [
              0.8888888888888888,
              "#fdca26"
             ],
             [
              1,
              "#f0f921"
             ]
            ],
            "type": "histogram2dcontour"
           }
          ],
          "mesh3d": [
           {
            "colorbar": {
             "outlinewidth": 0,
             "ticks": ""
            },
            "type": "mesh3d"
           }
          ],
          "parcoords": [
           {
            "line": {
             "colorbar": {
              "outlinewidth": 0,
              "ticks": ""
             }
            },
            "type": "parcoords"
           }
          ],
          "pie": [
           {
            "automargin": true,
            "type": "pie"
           }
          ],
          "scatter": [
           {
            "fillpattern": {
             "fillmode": "overlay",
             "size": 10,
             "solidity": 0.2
            },
            "type": "scatter"
           }
          ],
          "scatter3d": [
           {
            "line": {
             "colorbar": {
              "outlinewidth": 0,
              "ticks": ""
             }
            },
            "marker": {
             "colorbar": {
              "outlinewidth": 0,
              "ticks": ""
             }
            },
            "type": "scatter3d"
           }
          ],
          "scattercarpet": [
           {
            "marker": {
             "colorbar": {
              "outlinewidth": 0,
              "ticks": ""
             }
            },
            "type": "scattercarpet"
           }
          ],
          "scattergeo": [
           {
            "marker": {
             "colorbar": {
              "outlinewidth": 0,
              "ticks": ""
             }
            },
            "type": "scattergeo"
           }
          ],
          "scattergl": [
           {
            "marker": {
             "colorbar": {
              "outlinewidth": 0,
              "ticks": ""
             }
            },
            "type": "scattergl"
           }
          ],
          "scattermap": [
           {
            "marker": {
             "colorbar": {
              "outlinewidth": 0,
              "ticks": ""
             }
            },
            "type": "scattermap"
           }
          ],
          "scattermapbox": [
           {
            "marker": {
             "colorbar": {
              "outlinewidth": 0,
              "ticks": ""
             }
            },
            "type": "scattermapbox"
           }
          ],
          "scatterpolar": [
           {
            "marker": {
             "colorbar": {
              "outlinewidth": 0,
              "ticks": ""
             }
            },
            "type": "scatterpolar"
           }
          ],
          "scatterpolargl": [
           {
            "marker": {
             "colorbar": {
              "outlinewidth": 0,
              "ticks": ""
             }
            },
            "type": "scatterpolargl"
           }
          ],
          "scatterternary": [
           {
            "marker": {
             "colorbar": {
              "outlinewidth": 0,
              "ticks": ""
             }
            },
            "type": "scatterternary"
           }
          ],
          "surface": [
           {
            "colorbar": {
             "outlinewidth": 0,
             "ticks": ""
            },
            "colorscale": [
             [
              0,
              "#0d0887"
             ],
             [
              0.1111111111111111,
              "#46039f"
             ],
             [
              0.2222222222222222,
              "#7201a8"
             ],
             [
              0.3333333333333333,
              "#9c179e"
             ],
             [
              0.4444444444444444,
              "#bd3786"
             ],
             [
              0.5555555555555556,
              "#d8576b"
             ],
             [
              0.6666666666666666,
              "#ed7953"
             ],
             [
              0.7777777777777778,
              "#fb9f3a"
             ],
             [
              0.8888888888888888,
              "#fdca26"
             ],
             [
              1,
              "#f0f921"
             ]
            ],
            "type": "surface"
           }
          ],
          "table": [
           {
            "cells": {
             "fill": {
              "color": "#EBF0F8"
             },
             "line": {
              "color": "white"
             }
            },
            "header": {
             "fill": {
              "color": "#C8D4E3"
             },
             "line": {
              "color": "white"
             }
            },
            "type": "table"
           }
          ]
         },
         "layout": {
          "annotationdefaults": {
           "arrowcolor": "#2a3f5f",
           "arrowhead": 0,
           "arrowwidth": 1
          },
          "autotypenumbers": "strict",
          "coloraxis": {
           "colorbar": {
            "outlinewidth": 0,
            "ticks": ""
           }
          },
          "colorscale": {
           "diverging": [
            [
             0,
             "#8e0152"
            ],
            [
             0.1,
             "#c51b7d"
            ],
            [
             0.2,
             "#de77ae"
            ],
            [
             0.3,
             "#f1b6da"
            ],
            [
             0.4,
             "#fde0ef"
            ],
            [
             0.5,
             "#f7f7f7"
            ],
            [
             0.6,
             "#e6f5d0"
            ],
            [
             0.7,
             "#b8e186"
            ],
            [
             0.8,
             "#7fbc41"
            ],
            [
             0.9,
             "#4d9221"
            ],
            [
             1,
             "#276419"
            ]
           ],
           "sequential": [
            [
             0,
             "#0d0887"
            ],
            [
             0.1111111111111111,
             "#46039f"
            ],
            [
             0.2222222222222222,
             "#7201a8"
            ],
            [
             0.3333333333333333,
             "#9c179e"
            ],
            [
             0.4444444444444444,
             "#bd3786"
            ],
            [
             0.5555555555555556,
             "#d8576b"
            ],
            [
             0.6666666666666666,
             "#ed7953"
            ],
            [
             0.7777777777777778,
             "#fb9f3a"
            ],
            [
             0.8888888888888888,
             "#fdca26"
            ],
            [
             1,
             "#f0f921"
            ]
           ],
           "sequentialminus": [
            [
             0,
             "#0d0887"
            ],
            [
             0.1111111111111111,
             "#46039f"
            ],
            [
             0.2222222222222222,
             "#7201a8"
            ],
            [
             0.3333333333333333,
             "#9c179e"
            ],
            [
             0.4444444444444444,
             "#bd3786"
            ],
            [
             0.5555555555555556,
             "#d8576b"
            ],
            [
             0.6666666666666666,
             "#ed7953"
            ],
            [
             0.7777777777777778,
             "#fb9f3a"
            ],
            [
             0.8888888888888888,
             "#fdca26"
            ],
            [
             1,
             "#f0f921"
            ]
           ]
          },
          "colorway": [
           "#636efa",
           "#EF553B",
           "#00cc96",
           "#ab63fa",
           "#FFA15A",
           "#19d3f3",
           "#FF6692",
           "#B6E880",
           "#FF97FF",
           "#FECB52"
          ],
          "font": {
           "color": "#2a3f5f"
          },
          "geo": {
           "bgcolor": "white",
           "lakecolor": "white",
           "landcolor": "#E5ECF6",
           "showlakes": true,
           "showland": true,
           "subunitcolor": "white"
          },
          "hoverlabel": {
           "align": "left"
          },
          "hovermode": "closest",
          "mapbox": {
           "style": "light"
          },
          "paper_bgcolor": "white",
          "plot_bgcolor": "#E5ECF6",
          "polar": {
           "angularaxis": {
            "gridcolor": "white",
            "linecolor": "white",
            "ticks": ""
           },
           "bgcolor": "#E5ECF6",
           "radialaxis": {
            "gridcolor": "white",
            "linecolor": "white",
            "ticks": ""
           }
          },
          "scene": {
           "xaxis": {
            "backgroundcolor": "#E5ECF6",
            "gridcolor": "white",
            "gridwidth": 2,
            "linecolor": "white",
            "showbackground": true,
            "ticks": "",
            "zerolinecolor": "white"
           },
           "yaxis": {
            "backgroundcolor": "#E5ECF6",
            "gridcolor": "white",
            "gridwidth": 2,
            "linecolor": "white",
            "showbackground": true,
            "ticks": "",
            "zerolinecolor": "white"
           },
           "zaxis": {
            "backgroundcolor": "#E5ECF6",
            "gridcolor": "white",
            "gridwidth": 2,
            "linecolor": "white",
            "showbackground": true,
            "ticks": "",
            "zerolinecolor": "white"
           }
          },
          "shapedefaults": {
           "line": {
            "color": "#2a3f5f"
           }
          },
          "ternary": {
           "aaxis": {
            "gridcolor": "white",
            "linecolor": "white",
            "ticks": ""
           },
           "baxis": {
            "gridcolor": "white",
            "linecolor": "white",
            "ticks": ""
           },
           "bgcolor": "#E5ECF6",
           "caxis": {
            "gridcolor": "white",
            "linecolor": "white",
            "ticks": ""
           }
          },
          "title": {
           "x": 0.05
          },
          "xaxis": {
           "automargin": true,
           "gridcolor": "white",
           "linecolor": "white",
           "ticks": "",
           "title": {
            "standoff": 15
           },
           "zerolinecolor": "white",
           "zerolinewidth": 2
          },
          "yaxis": {
           "automargin": true,
           "gridcolor": "white",
           "linecolor": "white",
           "ticks": "",
           "title": {
            "standoff": 15
           },
           "zerolinecolor": "white",
           "zerolinewidth": 2
          }
         }
        },
        "title": {
         "text": "Daily Running Distance"
        },
        "xaxis": {
         "anchor": "y",
         "domain": [
          0,
          1
         ],
         "title": {
          "text": "activity_date"
         }
        },
        "yaxis": {
         "anchor": "x",
         "domain": [
          0,
          1
         ],
         "title": {
          "text": "total_distance_km"
         }
        }
       }
      }
     },
     "metadata": {},
     "output_type": "display_data"
    },
    {
     "name": "stdout",
     "output_type": "stream",
     "text": [
      "  activity_date  total_distance_km\n",
      "0    2023-09-14           14.16299\n",
      "1    2023-09-15           20.86147\n",
      "2    2023-09-17            9.99602\n",
      "3    2023-09-19           14.10011\n",
      "4    2023-09-20           21.84284\n"
     ]
    }
   ],
   "source": [
    "\n",
    "import pandas as pd\n",
    "import sqlite3\n",
    "import os\n",
    "import plotly.express as px\n",
    "\n",
    "# --- Configuration ---\n",
    "PROJECT_ROOT = os.path.abspath(os.path.join(os.getcwd(), '..'))\n",
    "DATABASE_FILE = os.path.join(PROJECT_ROOT, \"garmin_data.db\")\n",
    "\n",
    "# --- Connect and Query ---\n",
    "con = sqlite3.connect(DATABASE_FILE)\n",
    "df_activities = pd.read_sql_query(\"\"\"\n",
    "    SELECT \n",
    "        date(start_time_gmt) as activity_date,\n",
    "        SUM(distance_m) / 1000 as total_distance_km\n",
    "    FROM activities\n",
    "    WHERE sport = 'running'\n",
    "    GROUP BY activity_date\n",
    "\"\"\", con)\n",
    "con.close()\n",
    "\n",
    "# --- Visualize the Prototype ---\n",
    "# This plot will show up right here in the notebook\n",
    "fig = px.bar(df_activities, \n",
    "             x='activity_date', \n",
    "             y='total_distance_km', \n",
    "             title='Daily Running Distance')\n",
    "fig.show()\n",
    "\n",
    "# You can look at the data directly\n",
    "print(df_activities.head())"
   ]
  },
  {
   "cell_type": "markdown",
   "id": "5c3567d3",
   "metadata": {},
   "source": [
    "# Difficulty analysis\n",
    "zones Quentin POTTIER\n",
    "Vitesse Maximale Aérobie (VMA) : 22,3 km/h.\n",
    "• VO2 max : 76,39 ml/min/kg, excellente performance aérobie.\n",
    "• Premier seuil ventilatoire (SV1) : 16,5 km/h avec une fréquence cardiaque de 175\n",
    "bpm.\n",
    "• Deuxième seuil ventilatoire (SV2) : 19,7 km/h avec une fréquence cardiaque de\n",
    "194 bpm.\n",
    "• Fréquence cardiaque maximale atteinte : 204 bpm.\n",
    "Zones d'intensité : \n",
    "Intensité 1 : \n",
    "- < 13km/h\n",
    "- FC = 0 - 153 bpm\n",
    "Intensité 2 : \n",
    "-  13 - 16km/h\n",
    "- FC = 153 - 173 bpm\n",
    "Intensité 3 : \n",
    "-  17 - 10km/h\n",
    "- FC = 174 - 188 bpm\n",
    "Intensité 4 : \n",
    "-  19 - 21km/h\n",
    "- FC = 188 - 1 bpm\n",
    "Intensité 5 : \n",
    "-  21 - 23km/h\n",
    "- FC = 196 - 204 bpm"
   ]
  },
  {
   "cell_type": "code",
   "execution_count": 7,
   "id": "f2d13d8a",
   "metadata": {},
   "outputs": [
    {
     "name": "stdout",
     "output_type": "stream",
     "text": [
      "Training Load (zTRIMP) Score per Activity:\n",
      "                     start_time_gmt     sport  distance_m  zTRIMP_score\n",
      "activity_id                                                            \n",
      "20250928162722  2025-09-28 16:27:22   running    10229.53     57.883333\n",
      "20250928074559  2025-09-28 07:45:59   running    16431.19    132.116667\n",
      "20250927101104  2025-09-27 10:11:04   running     1223.87      7.583333\n",
      "20250927081225  2025-09-27 08:12:25   running     8441.00     59.000000\n",
      "20250926094139  2025-09-26 09:41:39   running     9567.95     55.916667\n",
      "20250924103013  2025-09-24 10:30:13  training        0.00     25.300000\n",
      "20250924101631  2025-09-24 10:16:31   running     1914.24      9.066667\n",
      "20250923163402  2025-09-23 16:34:02   running    11115.01     84.983333\n",
      "20250923101047  2025-09-23 10:10:47   running    13095.28     96.816667\n",
      "20250922161057  2025-09-22 16:10:57   running    15550.70     75.816667\n",
      "\n",
      "-----------------------------------------\n",
      "\n",
      "Time in Zones (Minutes) per Activity:\n",
      "hr_zone                 1          2          3     4    5\n",
      "activity_id                                               \n",
      "20250928162722  56.716667   0.583333   0.000000  0.00  0.0\n",
      "20250928074559  10.716667  39.750000  13.966667  0.00  0.0\n",
      "20250927101104   2.550000   2.516667   0.000000  0.00  0.0\n",
      "20250927081225  34.783333   6.983333   3.416667  0.00  0.0\n",
      "20250926094139  55.916667   0.000000   0.000000  0.00  0.0\n",
      "20250924103013  25.000000   0.150000   0.000000  0.00  0.0\n",
      "20250924101631   9.066667   0.000000   0.000000  0.00  0.0\n",
      "20250923163402  25.066667  15.833333   8.816667  0.45  0.0\n",
      "20250923101047  28.966667  11.550000  14.916667  0.00  0.0\n",
      "20250922161057  75.816667   0.000000   0.000000  0.00  0.0\n"
     ]
    },
    {
     "name": "stderr",
     "output_type": "stream",
     "text": [
      "/var/folders/cy/6bvk0sbx603843zpcpb8_6lh0000gq/T/ipykernel_14147/550062015.py:33: FutureWarning:\n",
      "\n",
      "The default of observed=False is deprecated and will be changed to True in a future version of pandas. Pass observed=False to retain current behavior or observed=True to adopt the future default and silence this warning.\n",
      "\n"
     ]
    }
   ],
   "source": [
    "import pandas as pd\n",
    "import sqlite3\n",
    "import os\n",
    "\n",
    "# --- Configuration ---\n",
    "PROJECT_ROOT = os.path.abspath(os.path.join(os.getcwd(), '..'))\n",
    "DATABASE_FILE = os.path.join(PROJECT_ROOT, \"garmin_data.db\")\n",
    "\n",
    "# --- Connect and Query ---\n",
    "con = sqlite3.connect(DATABASE_FILE)\n",
    "\n",
    "# --- 1. Define Your Personal HR Zones and Multipliers ---\n",
    "# Bins define the upper limit of each zone.\n",
    "hr_bins = [0, 153, 173, 188, 195, 204]\n",
    "# Labels are the zone numbers.\n",
    "hr_labels = [1, 2, 3, 4, 5]\n",
    "# Multipliers for the zTRIMP calculation.\n",
    "zone_multipliers = {1: 1, 2: 2, 3: 3, 4: 4, 5: 5}\n",
    "\n",
    "# --- 2. Load All Record Data from the Database ---\n",
    "con = sqlite3.connect(DATABASE_FILE)\n",
    "# Only select records that have a heart rate to avoid errors and improve performance.\n",
    "df_records = pd.read_sql_query(\"SELECT activity_id, heart_rate FROM records WHERE heart_rate IS NOT NULL\", con)\n",
    "con.close()\n",
    "\n",
    "# --- 3. Classify Each Record into an HR Zone ---\n",
    "# The pd.cut function is perfect for this. It efficiently groups the heart_rate data into the bins we defined.\n",
    "df_records['hr_zone'] = pd.cut(df_records['heart_rate'], bins=hr_bins, labels=hr_labels, right=True, include_lowest=True)\n",
    "\n",
    "# --- 4. Calculate Time Spent in Each Zone per Activity ---\n",
    "# First, group by activity and zone, then count the number of records (which equals seconds).\n",
    "# .unstack(fill_value=0) pivots the zones into columns, filling any missing zones for an activity with 0.\n",
    "time_in_zones_seconds = df_records.groupby(['activity_id', 'hr_zone']).size().unstack(fill_value=0)\n",
    "\n",
    "# Convert the time from seconds to minutes for the formula.\n",
    "time_in_zones_minutes = time_in_zones_seconds / 60\n",
    "\n",
    "# --- 5. Calculate the Final zTRIMP Score ---\n",
    "# Create a copy of the time-in-zone data to work with.\n",
    "df_training_load = time_in_zones_minutes.copy()\n",
    "\n",
    "# Initialize the score column.\n",
    "df_training_load['zTRIMP_score'] = 0\n",
    "\n",
    "# Loop through the multipliers, calculate the score for each zone, and add it to the total.\n",
    "for zone, multiplier in zone_multipliers.items():\n",
    "    # Check if the zone column exists (it might not if no time was ever spent in it).\n",
    "    if zone in df_training_load.columns:\n",
    "        df_training_load['zTRIMP_score'] += df_training_load[zone] * multiplier\n",
    "\n",
    "# --- 6. Display the Final Result with Activity Info ---\n",
    "# For better context, let's merge this with the main activity info.\n",
    "con = sqlite3.connect(DATABASE_FILE)\n",
    "df_activities = pd.read_sql_query(\"SELECT activity_id, start_time_gmt, sport, distance_m FROM activities\", con)\n",
    "con.close()\n",
    "\n",
    "# Set activity_id as the index on the activities DataFrame to allow for an easy join.\n",
    "df_activities.set_index('activity_id', inplace=True)\n",
    "\n",
    "# Join the training load data with the activity data.\n",
    "df_final_load = df_activities.join(df_training_load)\n",
    "\n",
    "# --- Output ---\n",
    "print(\"Training Load (zTRIMP) Score per Activity:\")\n",
    "# Display the most relevant columns, sorted by the most recent activities.\n",
    "print(df_final_load[['start_time_gmt', 'sport', 'distance_m', 'zTRIMP_score']].sort_values(by='start_time_gmt', ascending=False).head(10))\n",
    "\n",
    "print(\"\\n-----------------------------------------\\n\")\n",
    "\n",
    "print(\"Time in Zones (Minutes) per Activity:\")\n",
    "# To see the underlying data, display the time spent in each zone for the same activities.\n",
    "print(time_in_zones_minutes.loc[df_final_load.sort_values(by='start_time_gmt', ascending=False).head(10).index])"
   ]
  }
 ],
 "metadata": {
  "kernelspec": {
   "display_name": ".venv",
   "language": "python",
   "name": "python3"
  },
  "language_info": {
   "codemirror_mode": {
    "name": "ipython",
    "version": 3
   },
   "file_extension": ".py",
   "mimetype": "text/x-python",
   "name": "python",
   "nbconvert_exporter": "python",
   "pygments_lexer": "ipython3",
   "version": "3.13.7"
  }
 },
 "nbformat": 4,
 "nbformat_minor": 5
}
